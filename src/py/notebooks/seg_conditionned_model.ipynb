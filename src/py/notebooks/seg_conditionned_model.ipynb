{
 "cells": [
  {
   "cell_type": "code",
   "execution_count": 1,
   "id": "b1f80534",
   "metadata": {},
   "outputs": [],
   "source": [
    "import sys\n",
    "sys.path.append('/home/lumargot/trachoma/src/py')\n",
    "\n",
    "import os \n",
    "os.environ[\"CUDA_VISIBLE_DEVICES\"] = \"-1\" # put -1 to not use any"
   ]
  },
  {
   "cell_type": "code",
   "execution_count": 2,
   "id": "43f5fba5",
   "metadata": {},
   "outputs": [],
   "source": [
    "import math\n",
    "import pandas as pd\n",
    "import numpy as np \n",
    "\n",
    "import torch\n",
    "\n",
    "import matplotlib.pyplot as plt\n",
    "import SimpleITK as sitk"
   ]
  },
  {
   "cell_type": "code",
   "execution_count": 3,
   "id": "80093a72",
   "metadata": {},
   "outputs": [
    {
     "name": "stderr",
     "output_type": "stream",
     "text": [
      "2025-09-11 14:11:25.371087: E external/local_xla/xla/stream_executor/cuda/cuda_fft.cc:467] Unable to register cuFFT factory: Attempting to register factory for plugin cuFFT when one has already been registered\n",
      "WARNING: All log messages before absl::InitializeLog() is called are written to STDERR\n",
      "E0000 00:00:1757614285.384279 1238790 cuda_dnn.cc:8579] Unable to register cuDNN factory: Attempting to register factory for plugin cuDNN when one has already been registered\n",
      "E0000 00:00:1757614285.388363 1238790 cuda_blas.cc:1407] Unable to register cuBLAS factory: Attempting to register factory for plugin cuBLAS when one has already been registered\n",
      "W0000 00:00:1757614285.399738 1238790 computation_placer.cc:177] computation placer already registered. Please check linkage and avoid linking the same target more than once.\n",
      "W0000 00:00:1757614285.399752 1238790 computation_placer.cc:177] computation placer already registered. Please check linkage and avoid linking the same target more than once.\n",
      "W0000 00:00:1757614285.399754 1238790 computation_placer.cc:177] computation placer already registered. Please check linkage and avoid linking the same target more than once.\n",
      "W0000 00:00:1757614285.399756 1238790 computation_placer.cc:177] computation placer already registered. Please check linkage and avoid linking the same target more than once.\n",
      "2025-09-11 14:11:25.403431: I tensorflow/core/platform/cpu_feature_guard.cc:210] This TensorFlow binary is optimized to use available CPU instructions in performance-critical operations.\n",
      "To enable the following instructions: AVX2 FMA, in other operations, rebuild TensorFlow with the appropriate compiler flags.\n",
      "A new version of Albumentations is available: '2.0.8' (you have '2.0.4'). Upgrade using: pip install -U albumentations. To disable automatic update checks, set the environment variable NO_ALBUMENTATIONS_UPDATE to 1.\n"
     ]
    }
   ],
   "source": [
    "from nets.segmentation import *\n",
    "from loaders.tt_dataset import TTDataModuleSeg, TrainTransformsSeg, EvalTransformsSeg\n",
    "from callbacks.logger import SegImageLoggerNeptune, MaskRCNNImageLoggerNeptune\n"
   ]
  },
  {
   "cell_type": "code",
   "execution_count": 4,
   "id": "0267ef03",
   "metadata": {},
   "outputs": [],
   "source": [
    "df_train = pd.read_csv('/CMF/data/lumargot/trachoma/mtss_seg.csv')\n",
    "df_val = pd.read_csv('/CMF/data/lumargot/trachoma/mtss_seg_train_test.csv')\n",
    "df_test = pd.read_csv('/CMF/data/lumargot/trachoma/mtss_seg_test.csv')\n",
    "\n",
    "seg_column='seg'\n",
    "class_column='class'\n",
    "img_column='img'\n",
    "mount_point='/CMF/data/lumargot/trachoma/PoPP_Data/mtss'\n",
    "drop_labels=['Reject', 'Short Incision']\n",
    "concat_labels=['overcorrection', 'Gap', 'ECA', 'Fleshy']"
   ]
  },
  {
   "cell_type": "code",
   "execution_count": 5,
   "id": "aa258201",
   "metadata": {},
   "outputs": [],
   "source": [
    "train_transform = TrainTransformsSeg()\n",
    "eval_transform = EvalTransformsSeg()\n",
    "\n",
    "\n",
    "ttdata = TTDataModuleSeg(df_train, df_val, df_test, batch_size=1, num_workers=4, img_column=img_column, \n",
    "                          seg_column=seg_column, class_column=class_column, mount_point=mount_point, \n",
    "                          train_transform=train_transform, valid_transform=eval_transform, test_transform=eval_transform)\n",
    "\n",
    "\n"
   ]
  },
  {
   "cell_type": "code",
   "execution_count": 6,
   "id": "3aae39c3",
   "metadata": {},
   "outputs": [],
   "source": [
    "ttdata.setup()\n",
    "ds = ttdata.test_ds\n",
    "dl = ttdata.test_dataloader()"
   ]
  },
  {
   "cell_type": "code",
   "execution_count": 7,
   "id": "464f3b0f",
   "metadata": {},
   "outputs": [],
   "source": [
    "batch = next(iter(dl))"
   ]
  },
  {
   "cell_type": "code",
   "execution_count": 8,
   "id": "7914fe6e",
   "metadata": {},
   "outputs": [],
   "source": [
    "img,seg =  batch['img'], batch['seg']"
   ]
  },
  {
   "cell_type": "code",
   "execution_count": 9,
   "id": "6850ca85",
   "metadata": {},
   "outputs": [],
   "source": [
    "from nets.segmentation import HybridEyelidClassifier"
   ]
  },
  {
   "cell_type": "code",
   "execution_count": 10,
   "id": "4a02c5f6",
   "metadata": {},
   "outputs": [
    {
     "name": "stderr",
     "output_type": "stream",
     "text": [
      "The parameter 'pretrained' is deprecated since 0.13 and may be removed in the future, please use 'weights' instead.\n",
      "Arguments other than a weight enum or `None` for 'weights' are deprecated since 0.13 and may be removed in the future. The current behavior is equivalent to passing `weights=EfficientNet_B0_Weights.IMAGENET1K_V1`. You can also use `weights=EfficientNet_B0_Weights.DEFAULT` to get the most up-to-date weights.\n"
     ]
    }
   ],
   "source": [
    "model = HybridEyelidClassifier(class_weights = [0,0,0])"
   ]
  },
  {
   "cell_type": "code",
   "execution_count": 11,
   "id": "aaefb4f1",
   "metadata": {},
   "outputs": [
    {
     "name": "stderr",
     "output_type": "stream",
     "text": [
      "/tools/anaconda3/envs/tt/lib/python3.10/site-packages/lightning/pytorch/core/module.py:447: You are trying to `self.log()` but the `self.trainer` reference is not registered on the model yet. This is most likely because the model hasn't been passed to the `Trainer`\n"
     ]
    }
   ],
   "source": [
    "out = model.training_step(batch,0)"
   ]
  },
  {
   "cell_type": "code",
   "execution_count": null,
   "id": "bcb1c229",
   "metadata": {},
   "outputs": [],
   "source": [
    "from torchvision import models"
   ]
  },
  {
   "cell_type": "code",
   "execution_count": null,
   "id": "889a8adf",
   "metadata": {},
   "outputs": [
    {
     "name": "stderr",
     "output_type": "stream",
     "text": [
      "The parameter 'pretrained' is deprecated since 0.13 and may be removed in the future, please use 'weights' instead.\n",
      "Arguments other than a weight enum or `None` for 'weights' are deprecated since 0.13 and may be removed in the future. The current behavior is equivalent to passing `weights=EfficientNet_B0_Weights.IMAGENET1K_V1`. You can also use `weights=EfficientNet_B0_Weights.DEFAULT` to get the most up-to-date weights.\n"
     ]
    }
   ],
   "source": [
    "effnet = models.efficientnet_b0(pretrained=True)"
   ]
  },
  {
   "cell_type": "code",
   "execution_count": null,
   "id": "fcb8b810",
   "metadata": {},
   "outputs": [],
   "source": [
    "conv2d = effnet.features[0]\n",
    "encod_layer1 = effnet.features[1]\n",
    "norm_layer1 = nn.InstanceNorm2d(16, affine=True)\n",
    "\n",
    "encod_layer2 = effnet.features[2]\n",
    "norm_layer2 = nn.InstanceNorm2d(24, affine=True)\n",
    "\n",
    "encod_layer3 = effnet.features[3]\n",
    "norm_layer3 = nn.InstanceNorm2d(40, affine=True)\n"
   ]
  },
  {
   "cell_type": "code",
   "execution_count": null,
   "id": "9b2d3491",
   "metadata": {},
   "outputs": [],
   "source": [
    "from torchvision.transforms import Resize\n",
    "\n",
    "transform_layer1 = Resize(size=(384, 768))\n",
    "transform_layer2 = Resize(size=(192, 384))\n",
    "transform_layer3 = Resize(size=(96, 192))"
   ]
  },
  {
   "cell_type": "code",
   "execution_count": null,
   "id": "fc33b686",
   "metadata": {},
   "outputs": [],
   "source": [
    "list_layers = [ effnet.features[i] for i in range(4,9) ]\n",
    "decoder = nn.Sequential(*list_layers)"
   ]
  },
  {
   "cell_type": "code",
   "execution_count": null,
   "id": "dc7b66bc",
   "metadata": {},
   "outputs": [],
   "source": [
    "num_classes =3\n",
    "fc = nn.Linear(1280, num_classes)"
   ]
  },
  {
   "cell_type": "code",
   "execution_count": null,
   "id": "1181349f",
   "metadata": {},
   "outputs": [],
   "source": [
    "## encoder block\n",
    "\n",
    "x = effnet.features[0](img)\n",
    "\n",
    "x = encod_layer1(x)\n",
    "downsized_seg = transform_layer1(seg)\n",
    "x = x + downsized_seg\n",
    "x = norm_layer1(x)\n",
    "\n",
    "x = encod_layer2(x)\n",
    "downsized_seg = transform_layer2(seg)\n",
    "x = x + downsized_seg\n",
    "x = norm_layer2(x)\n",
    "\n",
    "x = encod_layer3(x)\n",
    "downsized_seg = transform_layer3(seg)\n",
    "x = x + downsized_seg\n",
    "x = norm_layer3(x)\n",
    "\n",
    "x = decoder(x)\n"
   ]
  },
  {
   "cell_type": "code",
   "execution_count": null,
   "id": "f1c7b2d2",
   "metadata": {},
   "outputs": [],
   "source": [
    "classifier = nn.Sequential(\n",
    "    nn.Dropout(0.2, inplace=True),\n",
    "    nn.Linear(1280, num_classes)\n",
    ")\n",
    "pooling = nn.AdaptiveAvgPool2d(output_size=1)"
   ]
  },
  {
   "cell_type": "code",
   "execution_count": null,
   "id": "d73a0c50",
   "metadata": {},
   "outputs": [],
   "source": [
    "x_pooled = effnet.avgpool(x)\n",
    "x_pooled = torch.flatten(x_pooled, 1)"
   ]
  },
  {
   "cell_type": "code",
   "execution_count": null,
   "id": "92776b56",
   "metadata": {},
   "outputs": [
    {
     "data": {
      "text/plain": [
       "torch.Size([1, 1280])"
      ]
     },
     "execution_count": 134,
     "metadata": {},
     "output_type": "execute_result"
    }
   ],
   "source": [
    "x_pooled.shape"
   ]
  },
  {
   "cell_type": "code",
   "execution_count": null,
   "id": "9fe9710e",
   "metadata": {},
   "outputs": [
    {
     "data": {
      "text/plain": [
       "metatensor([[-0.1521,  0.0687, -0.1349]], grad_fn=<AliasBackward0>)"
      ]
     },
     "execution_count": 136,
     "metadata": {},
     "output_type": "execute_result"
    }
   ],
   "source": [
    "classifier(x_pooled)"
   ]
  },
  {
   "cell_type": "code",
   "execution_count": null,
   "id": "054155ec",
   "metadata": {},
   "outputs": [
    {
     "data": {
      "text/plain": [
       "metatensor([[-3.6675e-01, -1.0212e-01, -2.5325e-01, -4.1064e-01, -1.1661e-01,\n",
       "         -2.4088e-01,  1.1880e-01, -1.3237e-01,  3.9459e-02, -1.5477e-01,\n",
       "         -3.5948e-01,  8.0078e-02, -5.8121e-02,  3.6314e-02, -3.7964e-01,\n",
       "         -3.2090e-01, -1.6877e-01,  1.2970e-01, -3.9606e-01, -1.1980e-01,\n",
       "         -1.2400e-01, -1.4895e-01, -3.5384e-01, -2.0728e-01,  1.1800e-01,\n",
       "         -2.0400e-01, -3.7928e-01, -2.5680e-01, -1.9102e-01, -1.6304e-01,\n",
       "          1.5884e-01, -1.4756e-02,  3.7017e-01, -3.2344e-01, -6.3781e-02,\n",
       "         -2.9114e-02, -1.9497e-01, -1.0236e-01,  2.3910e-02, -3.6052e-01,\n",
       "         -8.4605e-02,  2.7350e-02, -1.3850e-02,  4.6436e-02,  1.7302e-01,\n",
       "         -1.6792e-01, -3.2402e-02,  2.3410e-02, -5.2663e-01,  1.5376e-01,\n",
       "         -2.1032e-02,  2.2757e-01,  1.3461e-02, -2.3091e-02,  5.6212e-02,\n",
       "         -4.6477e-02, -3.3081e-01, -2.1694e-03,  9.7170e-02,  1.0601e-01,\n",
       "         -2.1393e-02, -1.3933e-01, -7.6209e-02, -6.2766e-01, -1.0907e-01,\n",
       "         -3.9313e-01, -3.4083e-02, -2.6887e-01,  8.4924e-02, -1.4556e-01,\n",
       "         -4.1580e-01, -1.4497e-01, -3.7599e-01,  9.2859e-03, -2.3960e-01,\n",
       "         -2.6830e-02, -9.4775e-02,  2.1090e-02, -4.2405e-02, -2.2803e-01,\n",
       "         -6.3678e-01, -3.5050e-01,  1.4853e-01, -3.2108e-01, -6.0118e-02,\n",
       "          2.5486e-02, -1.3926e-02,  1.0897e-02, -3.7045e-03, -1.9522e-01,\n",
       "          3.5965e-01,  7.0161e-02, -4.5246e-01, -1.7137e-01,  1.0213e-01,\n",
       "         -6.7584e-02, -4.0452e-02, -2.2864e-01, -3.7836e-01, -2.0079e-01,\n",
       "         -3.4967e-02, -3.6761e-01, -4.6486e-01,  2.8535e-01,  7.6435e-02,\n",
       "         -3.3984e-01, -1.9597e-01, -4.2334e-01,  2.1212e-01,  2.1599e-01,\n",
       "          2.4514e-01,  3.5293e-02, -8.1141e-02, -3.7204e-02, -5.3198e-02,\n",
       "          2.1755e-01, -2.4896e-03, -6.4297e-02, -1.7413e-01,  4.8636e-03,\n",
       "          3.0844e-03, -1.3395e-01, -3.2640e-01,  2.9301e-01,  8.5033e-02,\n",
       "         -6.9146e-02, -9.0841e-02, -1.9589e-01, -1.8518e-01,  1.5703e-01,\n",
       "          1.0890e-02,  1.4856e-01, -1.7788e-01,  4.2974e-02,  1.0897e-01,\n",
       "          6.2513e-02,  1.2345e-01,  1.7202e-01, -4.7326e-01, -8.5910e-02,\n",
       "          5.5503e-02,  2.9738e-01, -1.8601e-01, -4.6374e-02, -1.7176e-01,\n",
       "         -1.2651e-01, -1.4796e-02, -2.4118e-01, -2.8704e-01, -5.3698e-01,\n",
       "         -9.5451e-02,  3.5998e-01, -1.7785e-01, -2.7979e-01, -3.3117e-01,\n",
       "         -1.0146e-01,  2.7374e-02,  2.7201e-02,  1.7743e-01, -1.0582e-01,\n",
       "         -2.8237e-01,  2.7030e-01,  3.4988e-01, -2.8789e-01, -1.1670e-02,\n",
       "         -6.8003e-02, -4.5841e-02,  7.3140e-02,  3.2867e-02, -7.2943e-02,\n",
       "          8.0991e-02,  9.2592e-02,  2.2702e-01, -2.6486e-01,  5.7589e-02,\n",
       "         -1.9976e-01, -3.5803e-02, -2.8072e-01, -3.7067e-02,  9.3743e-02,\n",
       "         -2.2738e-01, -2.4814e-02, -4.5659e-03, -7.9648e-02, -6.8156e-03,\n",
       "          2.7812e-01,  1.2620e-01,  1.1708e-01,  2.0241e-01, -2.9280e-01,\n",
       "         -2.8086e-01, -1.5721e-01, -2.1639e-01, -3.4705e-01, -4.3130e-01,\n",
       "          1.0746e-01, -3.4718e-01, -2.7314e-01, -6.0453e-01, -2.7300e-02,\n",
       "         -3.6066e-01, -2.7222e-01,  1.2621e-01, -3.5684e-02, -5.4263e-01,\n",
       "         -1.3348e-01,  1.8203e-01,  1.0439e-01,  3.1717e-01, -2.2423e-01,\n",
       "         -1.5572e-01,  8.0116e-02, -1.3593e-01,  4.0088e-02, -3.3309e-01,\n",
       "          1.5839e-01, -2.4425e-01, -1.0721e-02, -9.7121e-02, -1.1093e-01,\n",
       "          2.2726e-02,  9.1793e-02,  2.1222e-01,  5.2874e-02, -1.5796e-01,\n",
       "          1.1619e-01, -2.8969e-01,  5.3269e-02, -4.3378e-01, -2.7511e-01,\n",
       "          2.4669e-01,  6.0659e-01,  5.6413e-02, -1.3042e-01, -3.5206e-01,\n",
       "          1.7696e-01,  1.3777e-01,  2.0694e-01,  6.5193e-02, -3.5225e-01,\n",
       "         -1.3458e-01, -2.5267e-01, -4.6562e-02, -2.7852e-01, -4.5755e-01,\n",
       "         -1.3250e-01, -3.3544e-01,  1.4046e-01,  2.1735e-01,  3.0307e-01,\n",
       "          3.1530e-01,  2.8424e-01, -5.1690e-01,  2.4407e-01,  4.3270e-02,\n",
       "          1.6287e-01,  5.6549e-02,  2.4335e-01,  6.1656e-02,  2.0632e-01,\n",
       "          8.5180e-02, -2.3442e-02, -3.6358e-01,  1.7168e-03,  5.2400e-02,\n",
       "         -2.9844e-01, -7.6586e-02, -1.2103e-01, -3.3851e-01,  2.4166e-01,\n",
       "         -2.8304e-02, -3.6311e-01,  5.8532e-02, -2.9836e-01, -1.5133e-01,\n",
       "         -3.5585e-01,  1.4183e-01,  3.9559e-01, -9.8804e-02, -7.4865e-02,\n",
       "         -2.0321e-02,  2.3361e-01,  2.1086e-01,  2.2683e-01,  9.7976e-02,\n",
       "         -4.5773e-02, -2.8397e-01, -1.7953e-01, -2.6621e-01, -3.1405e-02,\n",
       "         -1.7342e-01, -4.2140e-01, -1.5065e-01, -7.2387e-02, -2.0583e-01,\n",
       "         -4.3769e-01, -2.8694e-01, -8.8448e-01, -4.0189e-01, -1.6501e-01,\n",
       "         -1.4222e-01, -9.1906e-02, -3.1099e-01,  1.1838e-02, -1.7466e-01,\n",
       "         -1.6651e-01,  3.4140e-02, -9.8873e-02,  9.8576e-02,  7.3232e-02,\n",
       "         -4.4020e-02, -3.9309e-01,  4.4406e-02, -2.4849e-01, -2.1374e-01,\n",
       "         -4.5043e-01, -5.3132e-01, -5.6614e-01, -5.7874e-02, -3.0752e-01,\n",
       "         -2.3090e-01, -2.0423e-01, -1.1283e-01,  1.2988e-01, -3.3312e-01,\n",
       "         -3.8722e-01, -3.4374e-01,  9.2138e-02,  1.0445e-01, -1.3389e-02,\n",
       "          9.7599e-02, -2.9189e-01, -6.7159e-02, -3.4347e-01, -3.4537e-01,\n",
       "         -4.2118e-01, -1.1384e-01,  2.1430e-01,  1.6659e-01, -5.8943e-02,\n",
       "          1.7300e-02, -4.0370e-01, -3.7329e-01, -4.7287e-01,  3.7922e-02,\n",
       "          2.8780e-01,  1.3282e-02, -1.3264e-01, -1.5714e-01, -5.5134e-03,\n",
       "         -9.4079e-02, -1.0720e-01, -1.8338e-01,  1.2099e-01, -2.6179e-01,\n",
       "         -2.8379e-01, -1.7450e-01, -7.0882e-02, -4.1492e-01,  7.9052e-02,\n",
       "          3.1348e-01, -6.4119e-01, -6.5365e-01,  2.1861e-02, -4.6092e-01,\n",
       "          1.9693e-01, -1.1192e-01, -1.2216e-01, -2.6698e-01, -6.1559e-02,\n",
       "          2.6924e-01,  3.2960e-01, -2.4228e-01, -6.0028e-02, -5.4145e-01,\n",
       "         -2.1498e-01, -1.5952e-01, -3.6057e-01, -1.4818e-01, -2.7225e-01,\n",
       "          3.6625e-03, -4.7930e-02, -3.2540e-02, -2.6392e-01, -5.7231e-01,\n",
       "         -1.9550e-01, -1.5367e-01,  8.3797e-02, -1.5897e-01,  1.1389e-01,\n",
       "          1.3552e-01, -3.1293e-01, -1.4182e-01,  3.5740e-02,  3.9302e-02,\n",
       "          2.3104e-02, -1.8960e-02, -2.3484e-01,  4.2970e-01, -2.4379e-01,\n",
       "         -3.4702e-01, -3.5913e-01,  2.0908e-01, -3.1981e-01, -3.2093e-01,\n",
       "         -1.9941e-03, -7.3744e-02, -1.7650e-01,  1.8824e-01,  3.5382e-01,\n",
       "         -2.9620e-01,  1.9363e-01,  8.8958e-03,  1.1579e-02,  3.1162e-01,\n",
       "         -1.7453e-02, -3.7968e-01, -1.1132e-01, -3.6973e-01,  1.0199e-02,\n",
       "          1.9933e-01,  4.2600e-01, -1.3678e-01, -5.8365e-01, -5.0149e-01,\n",
       "          1.1083e-01, -6.3024e-02,  1.6336e-01,  1.3938e-01, -1.2515e-01,\n",
       "         -4.8781e-02, -2.1063e-01,  7.6695e-02, -3.6046e-01, -3.6256e-01,\n",
       "         -1.8090e-01, -2.7090e-02,  3.4169e-01,  1.5179e-01, -4.6420e-01,\n",
       "         -5.4902e-01,  1.9961e-01,  8.4899e-02, -4.0603e-02, -1.9965e-01,\n",
       "         -2.4681e-01, -3.7325e-01,  2.7430e-01,  4.0423e-01,  1.5306e-01,\n",
       "         -5.4733e-01, -3.6611e-01, -1.7371e-01,  2.4097e-01, -2.4304e-01,\n",
       "         -8.1668e-02,  4.1735e-01,  5.8428e-01, -6.2176e-02,  1.1967e-01,\n",
       "          2.0210e-01,  4.4464e-01,  3.1484e-02,  2.6762e-01,  1.3787e-01,\n",
       "         -2.4178e-01, -4.0584e-01, -5.5888e-01, -1.0936e-01,  5.0970e-01,\n",
       "         -1.8304e-01,  1.4650e-01, -3.2358e-01,  1.9563e-01,  2.4506e-01,\n",
       "         -4.7198e-01,  4.4112e-02, -1.0004e-02, -9.7731e-02, -5.7650e-01,\n",
       "         -1.2542e-01, -2.9398e-01, -4.3884e-01, -1.3802e-02, -5.8532e-01,\n",
       "         -3.9074e-01, -5.7302e-01, -7.8450e-02, -9.4673e-02,  1.9231e-02,\n",
       "         -3.6737e-02,  4.5296e-02,  1.9690e-02, -1.6424e-01, -9.2315e-02,\n",
       "         -2.6468e-01, -5.6415e-02,  3.8298e-02, -2.9741e-01,  2.1924e-01,\n",
       "         -2.0572e-01,  3.5066e-02,  1.3770e-01, -1.0462e-01,  4.7111e-01,\n",
       "          3.0790e-01,  3.0285e-01, -2.1874e-01, -1.0970e-01,  2.2815e-01,\n",
       "         -1.2760e-01,  1.1249e-01, -1.4476e-01, -1.7305e-01, -1.4396e-01,\n",
       "          3.0206e-01, -5.6963e-02,  1.7330e-01, -2.7972e-01,  2.2967e-01,\n",
       "         -2.0132e-01, -5.0560e-01, -3.9851e-01,  1.5720e-01, -1.1810e-01,\n",
       "         -1.0015e-01, -2.8696e-01, -5.7825e-01,  1.1411e-01,  2.0416e-01,\n",
       "          4.5704e-01,  9.8644e-02,  1.9213e-01, -2.4182e-01, -2.6774e-01,\n",
       "         -1.9669e-01, -1.2016e-01, -3.4830e-01,  1.0270e-01, -1.8976e-01,\n",
       "          5.3978e-02,  2.3334e-01, -8.3502e-02, -4.6419e-02, -1.6042e-02,\n",
       "          1.7319e-01, -3.8306e-02,  1.4873e-01, -9.7522e-02, -3.2175e-01,\n",
       "         -4.8205e-01, -1.7897e-01, -6.2304e-03, -7.6213e-02, -5.3044e-02,\n",
       "         -1.0569e-01,  2.6372e-01,  2.1580e-01,  2.9873e-01,  3.1609e-01,\n",
       "         -8.8042e-02, -1.2173e-02,  1.8310e-02, -5.5471e-01, -1.0298e-02,\n",
       "          1.4848e-01, -1.9334e-01, -7.5859e-02,  1.0276e-01, -1.7399e-02,\n",
       "          1.6658e-01, -3.9875e-01,  1.6362e-01, -2.2631e-01,  7.5725e-02,\n",
       "         -2.8735e-01, -4.9616e-01,  2.6465e-01, -7.9387e-02,  3.7418e-03,\n",
       "         -5.1567e-02, -2.0922e-01, -4.8139e-02,  4.5783e-01, -1.3891e-01,\n",
       "         -2.8492e-02, -6.5113e-02,  4.7213e-01, -1.5488e-01,  2.3148e-02,\n",
       "          1.7465e-01,  4.1443e-01, -6.9802e-01, -1.7923e-01,  8.2825e-02,\n",
       "         -1.5134e-01,  3.5539e-01, -3.4629e-01, -2.5230e-01,  3.9145e-01,\n",
       "          7.1748e-01,  5.1600e-01, -3.4485e-02,  2.0312e-01,  1.9584e-02,\n",
       "         -2.5252e-01,  4.1707e-01, -7.9540e-02,  1.1861e-01, -4.6205e-01,\n",
       "          3.3087e-01,  4.8554e-02, -2.0132e-01,  2.8813e-02,  1.9098e-02,\n",
       "         -4.4828e-01,  1.0625e-01,  4.0697e-01,  4.9679e-01,  7.9670e-02,\n",
       "         -1.7633e-01,  8.2451e-02, -5.2569e-01, -1.5070e-01, -2.3068e-01,\n",
       "         -7.2366e-02, -3.7869e-01, -3.8236e-01,  7.0034e-02, -2.2263e-01,\n",
       "         -6.7477e-01, -1.3454e-01, -1.8478e-01, -2.4488e-01,  8.2513e-02,\n",
       "         -4.9503e-01,  2.5929e-01,  1.1433e-01, -6.7027e-02,  1.1283e-01,\n",
       "          1.4277e-03,  2.1398e-01,  3.1395e-02,  4.0928e-01,  1.2125e-01,\n",
       "         -1.9213e-02,  2.7440e-02, -6.3944e-02, -5.8214e-01, -3.2608e-01,\n",
       "         -1.5856e-01, -4.7272e-02, -6.4714e-04,  4.7907e-02, -1.3470e-02,\n",
       "          3.4490e-01, -3.7395e-02, -5.1633e-02,  2.0835e-01, -2.6341e-01,\n",
       "         -9.7057e-03, -3.4959e-01, -5.0599e-01, -8.0512e-02, -4.5874e-01,\n",
       "         -1.3201e-01, -6.7165e-02, -2.5477e-01, -1.3884e-01, -7.8060e-02,\n",
       "         -1.4349e-01, -4.1480e-01, -9.1677e-02, -1.4678e-01,  2.7979e-02,\n",
       "         -2.0415e-01,  1.7849e-01, -1.3979e-01,  2.5279e-01,  1.1060e-01,\n",
       "         -4.3239e-01, -2.5254e-01, -2.7736e-01, -1.4819e-02,  1.0037e-02,\n",
       "         -4.6660e-01, -1.9976e-01, -8.7108e-02, -3.6375e-01, -1.1923e-01,\n",
       "          1.4358e-01, -3.6989e-01, -3.3478e-02, -5.9483e-01,  2.3409e-01,\n",
       "          6.8962e-02, -1.5271e-01, -5.4069e-02, -2.1126e-01,  1.0247e-01,\n",
       "          6.5393e-02, -2.3534e-01, -1.4242e-01,  1.2828e-02, -3.3175e-01,\n",
       "         -2.7432e-02, -8.3299e-02, -4.4037e-01, -1.3750e-02, -1.8442e-01,\n",
       "         -1.1842e-01, -6.6728e-02, -2.1548e-01, -3.8433e-01, -1.6306e-01,\n",
       "         -3.8512e-01, -1.2401e-01, -2.7340e-01,  1.8543e-01, -9.3811e-02,\n",
       "         -3.0181e-01,  1.4424e-01,  1.0732e-01, -5.5903e-01,  4.3594e-01,\n",
       "          1.4119e-01, -4.8235e-01, -2.2420e-02, -7.3132e-02,  4.3398e-03,\n",
       "         -1.5066e-02,  3.5734e-01, -3.2243e-01,  1.0237e-01, -2.0521e-01,\n",
       "          8.6670e-02, -4.6996e-01, -1.7836e-01, -2.7282e-02, -3.0876e-01,\n",
       "          4.5472e-02,  1.3844e-01, -2.1565e-01, -2.3631e-01, -6.6655e-02,\n",
       "         -4.8747e-01, -7.7019e-01, -1.2451e-02, -6.4249e-02, -1.2094e-01,\n",
       "          1.1633e-01, -3.7691e-01, -6.6317e-01, -3.2191e-01, -3.7494e-02,\n",
       "          6.5262e-02, -1.9021e-01, -3.5645e-01, -4.0560e-02, -4.9090e-01,\n",
       "         -2.5936e-01,  2.9362e-01,  5.4322e-02, -4.3681e-02,  2.4722e-01,\n",
       "          1.8671e-01,  6.1539e-02, -3.6164e-01, -2.3294e-01,  1.4655e-01,\n",
       "         -2.6959e-01,  1.5710e-01,  2.8412e-01,  5.6286e-02, -6.8381e-01,\n",
       "         -4.0318e-01, -2.0908e-01, -1.7793e-01,  1.1294e-01, -3.2716e-01,\n",
       "          4.4478e-01, -2.4300e-01, -3.2483e-01, -7.3100e-01,  4.8873e-01,\n",
       "         -3.0397e-01,  1.8242e-01,  2.1636e-01, -3.5733e-01, -1.7462e-01,\n",
       "         -1.9781e-01, -1.5892e-01,  3.2927e-01, -3.0205e-02, -4.0280e-03,\n",
       "         -5.5955e-01,  1.5898e-01, -1.6341e-01, -7.5598e-02, -4.3052e-01,\n",
       "          3.5774e-02, -2.9716e-01, -6.2415e-01, -2.3448e-01, -2.3440e-01,\n",
       "         -2.9674e-01,  4.0795e-01,  1.7804e-01, -7.4470e-02, -1.1765e-01,\n",
       "         -2.2742e-02, -2.0309e-01, -5.1871e-01,  1.4077e-01, -4.8778e-01,\n",
       "         -7.6215e-02,  1.1101e-02, -5.6097e-01, -3.7820e-01, -1.5131e-01,\n",
       "          4.6154e-02, -8.1681e-02,  1.3371e-01, -8.3626e-02, -2.7387e-01,\n",
       "          1.8303e-01, -7.0784e-01,  6.3134e-02,  3.0095e-02, -4.6981e-02,\n",
       "          3.6302e-01,  6.4462e-02, -4.0384e-01, -8.2465e-02,  3.0485e-01,\n",
       "         -1.6381e-03, -2.1178e-02,  2.4052e-01, -4.6091e-01,  1.0961e-01,\n",
       "          1.6451e-01,  5.3608e-01, -8.3449e-02, -2.1984e-01, -2.4054e-01,\n",
       "         -1.2517e-01,  2.8510e-01, -1.9052e-01, -1.4560e-01,  2.8025e-01,\n",
       "          9.4412e-02,  3.4666e-01,  1.3801e-01, -1.8256e-01, -8.2558e-02,\n",
       "         -2.5935e-02,  1.4622e-01,  3.3033e-02, -9.0396e-03, -4.6072e-02,\n",
       "         -1.1705e-01,  2.6105e-01, -6.8840e-02, -1.2199e-01, -1.6049e-01,\n",
       "         -8.5789e-02, -3.3588e-01, -1.2341e-01, -3.7710e-02,  3.0737e-02,\n",
       "         -1.7753e-01, -2.9133e-01, -1.0120e-01, -3.2971e-01, -7.5077e-02,\n",
       "         -1.6235e-01, -1.1885e-01, -2.5312e-01, -4.5397e-01,  5.2124e-01,\n",
       "          1.6202e-01,  1.6600e-01,  2.7826e-01,  1.6992e-01,  3.0658e-01,\n",
       "          1.0971e-01, -3.2950e-01, -8.2743e-02,  1.4295e-01,  5.9554e-02,\n",
       "         -7.4330e-01, -5.4535e-01,  1.4387e-01, -4.2526e-01, -4.0939e-02,\n",
       "         -4.4010e-01, -2.1997e-01, -2.1840e-01,  1.3027e-01,  2.1458e-01,\n",
       "          2.6357e-01, -1.6752e-01, -4.1066e-01, -7.1322e-02, -2.8314e-01,\n",
       "         -1.5715e-01, -5.6713e-02,  3.2671e-02, -5.9307e-01, -2.4882e-01,\n",
       "          2.8394e-01,  6.3777e-02,  7.1259e-02, -4.8908e-01, -1.8384e-01,\n",
       "          7.4324e-02,  2.1193e-01,  3.4324e-01, -3.7960e-01,  2.2483e-01,\n",
       "          8.8710e-03,  2.8925e-01, -1.6687e-02, -3.7368e-01, -6.4152e-02,\n",
       "         -2.6375e-01, -5.3111e-01, -1.8151e-01, -1.9457e-01,  8.8079e-03,\n",
       "          8.6542e-02, -1.3111e-01, -2.1538e-01, -5.6494e-01, -9.2019e-02,\n",
       "         -3.1625e-01, -2.8922e-01, -2.4265e-01, -1.9169e-01,  1.2476e-01,\n",
       "         -1.3092e-01,  8.8522e-02, -3.6636e-01,  4.2855e-02,  2.1990e-02,\n",
       "         -4.3201e-01, -1.5202e-01,  1.0494e-01, -3.3697e-02, -8.7081e-02,\n",
       "         -1.1510e-01, -2.4710e-01, -1.8783e-01, -2.7767e-01,  1.4280e-01,\n",
       "         -3.5802e-01, -2.1278e-02, -1.0629e-01, -1.4141e-02,  1.8014e-01,\n",
       "         -2.8044e-01,  1.9526e-01, -8.2891e-02,  4.1876e-03,  9.8320e-02,\n",
       "         -2.7582e-01,  4.8492e-02, -3.5214e-01,  1.3227e-01, -2.5885e-01,\n",
       "          9.7210e-02, -2.6516e-01, -3.6404e-01,  2.1714e-02,  2.8660e-03,\n",
       "          9.5746e-02, -3.2384e-01, -6.3245e-01, -2.8399e-01,  5.1458e-03,\n",
       "          2.3625e-01, -6.3301e-01,  4.7620e-04, -3.9597e-01, -1.0371e-01,\n",
       "         -2.1855e-01, -5.3385e-02, -1.2559e-01, -1.8344e-01, -5.7794e-01,\n",
       "         -6.1149e-02,  4.2037e-02,  1.2697e-02, -3.2193e-01, -1.3224e-01,\n",
       "         -1.6825e-01,  2.1207e-01, -1.0584e-01,  3.8058e-02, -8.6216e-02]],\n",
       "       grad_fn=<AliasBackward0>)"
      ]
     },
     "execution_count": 135,
     "metadata": {},
     "output_type": "execute_result"
    }
   ],
   "source": [
    "effnet.classifier(x_pooled)"
   ]
  },
  {
   "cell_type": "code",
   "execution_count": null,
   "id": "fbf03937",
   "metadata": {},
   "outputs": [],
   "source": [
    "instance_norm = nn.InstanceNorm2d(16, affine=True)"
   ]
  },
  {
   "cell_type": "code",
   "execution_count": null,
   "id": "34dd7b69",
   "metadata": {},
   "outputs": [
    {
     "data": {
      "text/plain": [
       "torch.Size([1, 16, 384, 768])"
      ]
     },
     "execution_count": 28,
     "metadata": {},
     "output_type": "execute_result"
    }
   ],
   "source": [
    "m(x).shape"
   ]
  },
  {
   "cell_type": "code",
   "execution_count": null,
   "id": "4c18a7e6",
   "metadata": {},
   "outputs": [
    {
     "data": {
      "text/plain": [
       "<matplotlib.image.AxesImage at 0x7f6554608310>"
      ]
     },
     "execution_count": 18,
     "metadata": {},
     "output_type": "execute_result"
    },
    {
     "data": {
      "image/png": "[encoded data removed]",
      "text/plain": [
       "<Figure size 640x480 with 1 Axes>"
      ]
     },
     "metadata": {},
     "output_type": "display_data"
    }
   ],
   "source": [
    "plt.imshow(downsized_seg[0,0])\n",
    "# plt.imshow(img[0].permute(1,2,0))"
   ]
  },
  {
   "cell_type": "code",
   "execution_count": null,
   "id": "bf63f9ca",
   "metadata": {},
   "outputs": [],
   "source": []
  }
 ],
 "metadata": {
  "kernelspec": {
   "display_name": "tt",
   "language": "python",
   "name": "python3"
  },
  "language_info": {
   "codemirror_mode": {
    "name": "ipython",
    "version": 3
   },
   "file_extension": ".py",
   "mimetype": "text/x-python",
   "name": "python",
   "nbconvert_exporter": "python",
   "pygments_lexer": "ipython3",
   "version": "3.10.12"
  }
 },
 "nbformat": 4,
 "nbformat_minor": 5
}
